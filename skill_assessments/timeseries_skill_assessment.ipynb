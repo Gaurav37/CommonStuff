{
 "cells": [
  {
   "cell_type": "code",
   "execution_count": 1,
   "metadata": {},
   "outputs": [],
   "source": [
    "# imports\n",
    "import os\n",
    "import sys\n",
    "from math import sqrt\n",
    "import numpy as np # linear algebra, etc.\n",
    "import pandas as pd # data processing, CSV file I/O (e.g., pd.read_csv)\n",
    "import matplotlib.pyplot as plt\n",
    "from keras import backend # this is to calculate RMSE; feel free to use TensorFlow, Keras or PyTorch\n",
    "from sklearn.metrics import mean_squared_error\n",
    "\n",
    "np.random.seed(0)"
   ]
  },
  {
   "cell_type": "code",
   "execution_count": 2,
   "metadata": {},
   "outputs": [],
   "source": [
    "# function defn's\n",
    "def rmse(y_true, y_pred):\n",
    "    \"\"\"calculate RMSE\"\"\"\n",
    "    return sqrt( mean_squared_error( y_true, y_pred ) )\n",
    "\n",
    "def plot_tracklet( x, y, text_pad=.1 ):\n",
    "    \"\"\"plot tracklet\"\"\"\n",
    "    # plot x\n",
    "    num_timeslices = x.shape[0]\n",
    "    for t in range(num_timeslices):\n",
    "        lat = x[t,0]  # y axis, col. index is 0\n",
    "        long = x[t,1] # x axis, col. index is 1\n",
    "        plt.scatter( long, lat )\n",
    "        plt.text( long+text_pad, lat-text_pad, r'${}$'.format(t+1) ) # label each timepoint\n",
    "        if ( t > 0 ): # connect timepoints\n",
    "            dx = x[t,1]-x[t-1,1]\n",
    "            dy = x[t,0]-x[t-1,0] \n",
    "            plt.arrow( x[t-1,1], x[t-1,0], dx, dy, length_includes_head=True, head_width=0.03, fc='b', ec='b' )\n",
    "            \n",
    "    # plot y\n",
    "    plt.scatter( y[1], y[0] )\n",
    "    plt.text( y[1]+text_pad, y[0]-text_pad, r'${}$'.format(num_timeslices+1) )\n",
    "    dx = y[1]-x[t,1]\n",
    "    dy = y[0]-x[t,0] \n",
    "    # last connected is dotted\n",
    "    plt.arrow( x[t,1], x[t,0], dx, dy, head_width=0.03, fc='b', ec='b', linestyle=':' )\n",
    "    \n",
    "    plt.title('input (x) and output (y)')\n",
    "    plt.show()\n",
    "        \n",
    "def plot_predictions(y_true, y_pred):\n",
    "    \"\"\"plot predictions v ground truth\"\"\"\n",
    "    plt.scatter( y_true[:,1], y_true[:,0], color='blue' )\n",
    "    plt.scatter( y_pred[:,1], y_pred[:,0], color='red')\n",
    "    plt.title('Predictions (red) v Ground truth (blue)')\n",
    "    plt.show()"
   ]
  },
  {
   "cell_type": "code",
   "execution_count": 3,
   "metadata": {},
   "outputs": [],
   "source": [
    "# load the data\n",
    "INFILE = 'timeseries_data.npz'\n",
    "\n",
    "training_data = np.load( INFILE )\n",
    "x_base_train = training_data['x_train']\n",
    "y_base_train = training_data['y_train']\n",
    "x_base_test = training_data['x_test']\n",
    "y_base_test = training_data['y_test']"
   ]
  },
  {
   "cell_type": "code",
   "execution_count": 4,
   "metadata": {},
   "outputs": [
    {
     "name": "stdout",
     "output_type": "stream",
     "text": [
      "X train shape (297, 3, 5)\n",
      "y train shape (297, 2)\n",
      "X test shape (74, 3, 5)\n",
      "y test shape (74, 2)\n"
     ]
    }
   ],
   "source": [
    "# examine the data\n",
    "print( \"X train shape {}\".format( x_base_train.shape ) )\n",
    "print( \"y train shape {}\".format( y_base_train.shape ) )\n",
    "print( \"X test shape {}\".format( x_base_test.shape ) )\n",
    "print( \"y test shape {}\".format( y_base_test.shape ) )"
   ]
  },
  {
   "cell_type": "code",
   "execution_count": 8,
   "metadata": {},
   "outputs": [
    {
     "name": "stdout",
     "output_type": "stream",
     "text": [
      "x [  0.           2.755623   105.128715     0.79919679   0.57814238]\n",
      "x [  0.31705361   2.185942   104.861107     0.81526104   0.59010011]\n",
      "x [3.06247641e-02 2.13199000e+00 1.04832007e+02 8.15261044e-01\n",
      " 5.85372636e-01]\n",
      "y [  1.460207 104.491098]\n"
     ]
    },
    {
     "data": {
      "image/png": "[encoded data removed]",
      "text/plain": [
       "<Figure size 432x288 with 1 Axes>"
      ]
     },
     "metadata": {
      "needs_background": "light"
     },
     "output_type": "display_data"
    }
   ],
   "source": [
    "# This timeseries data is from ships.\n",
    "#\n",
    "# There are 297 tracklets; each tracklet is part of a larger track.  There can be more than one tracklet associated with a ship.\n",
    "#\n",
    "# Each tracklet consists of 3 input timeslices and 1 output timeslice.\n",
    "# For the input (x), there are 5 dimensions: timestamp of timeslice (this starts at 0 for each new track), latitude (y axis), longitude (x axis), speed information and angle/direction information.\n",
    "# For the output (y), there are 2 dimensions: latitude, longitude.\n",
    "tracklet = 0\n",
    "for t in range(3):\n",
    "  print( \"x {}\".format( x_base_train[tracklet][t][:] ) )\n",
    "print( \"y {}\".format( y_base_train[tracklet][:] ) )\n",
    "\n",
    "plot_tracklet( x_base_train[tracklet][:][:], y_base_train[tracklet][:] )"
   ]
  },
  {
   "cell_type": "code",
   "execution_count": 68,
   "metadata": {},
   "outputs": [],
   "source": [
    "# Instructions\n",
    "#\n",
    "# The goal is to predict the output given the input.\n",
    "# Don't spend too much time on data analysis, visualization, finding anomalies, etc. -- the primary focus is on doing the prediction\n",
    "# Evaluation criteria will include: low generalization error, speed in returning the exercise, and the code quality (easy to read, extensible, etc.)\n",
    "#\n",
    "# Train on x_base_train, y_base_train pairs and test on x_base_test, y_base_test pairs.\n",
    "# Use a deep learning approach (LSTM, RNN, etc.) -- you choose the model and its parameters.\n",
    "# You can use TensorFlow, Keras or PyTorch.\n",
    "# Use RMSE as the objective function to minimize; the goal is to get ~1 RMSE on the testing set.\n",
    "#\n",
    "# Calculate the rmse and plot the predictions (see next code block).\n",
    "# VERY IMPORTANT: save out weights & write code on how to load them so we do not have to retrain your network (don't forget to email the weights with your submission).\n",
    "#\n",
    "# Add your code below here and set y_pred at the end (you can use more than 1 code block if you like)."
   ]
  },
  {
   "cell_type": "code",
   "execution_count": null,
   "metadata": {},
   "outputs": [],
   "source": []
  },
  {
   "cell_type": "code",
   "execution_count": 69,
   "metadata": {},
   "outputs": [
    {
     "name": "stdout",
     "output_type": "stream",
     "text": [
      "prediction [-14.02239433  64.08883827], ground truth [-14.970237  63.78751 ]\n",
      "prediction [-8.93786042 66.76930905], ground truth [-14.446023  64.578805]\n",
      "prediction [-19.57721263 162.38377374], ground truth [-21.09724  150.028467]\n",
      "RMSE 6.494715737226548\n"
     ]
    },
    {
     "data": {
      "image/png": "[encoded data removed]",
      "text/plain": [
       "<Figure size 432x288 with 1 Axes>"
      ]
     },
     "metadata": {
      "needs_background": "light"
     },
     "output_type": "display_data"
    }
   ],
   "source": [
    "# this is a fake result to demonstrate the rmse and plot_predictions functions\n",
    "min_x_test = np.min( y_base_test[:,0] )\n",
    "max_x_test = np.max( y_base_test[:,0] )\n",
    "min_y_test = np.min( y_base_test[:,1] )\n",
    "max_y_test = np.max( y_base_test[:,1] )\n",
    "\n",
    "y_pred = y_base_test.copy() \n",
    "perturb_x = .125*(max_x_test-min_x_test)*np.random.rand( y_base_test.shape[0] )\n",
    "y_pred[:,0] = y_pred[:,0] + perturb_x\n",
    "perturb_y = .125*(max_y_test-min_y_test)*np.random.rand( y_base_test.shape[0] )\n",
    "y_pred[:,1] = y_pred[:,1] + perturb_y\n",
    "\n",
    "# check first 3 predictions\n",
    "for t in range(3):\n",
    "    print( \"prediction {}, ground truth {}\".format( y_pred[t,:], y_base_test[t,:] ) )\n",
    "\n",
    "# calculate RMSE\n",
    "error = rmse( y_pred, y_base_test )\n",
    "print( \"RMSE {}\".format( error ) )\n",
    "\n",
    "# plot predictions\n",
    "plot_predictions( y_base_test, y_pred )"
   ]
  },
  {
   "cell_type": "code",
   "execution_count": null,
   "metadata": {},
   "outputs": [],
   "source": []
  }
 ],
 "metadata": {
  "kernelspec": {
   "display_name": "Python 3",
   "language": "python",
   "name": "python3"
  },
  "language_info": {
   "codemirror_mode": {
    "name": "ipython",
    "version": 3
   },
   "file_extension": ".py",
   "mimetype": "text/x-python",
   "name": "python",
   "nbconvert_exporter": "python",
   "pygments_lexer": "ipython3",
   "version": "3.7.6"
  }
 },
 "nbformat": 4,
 "nbformat_minor": 4
}
